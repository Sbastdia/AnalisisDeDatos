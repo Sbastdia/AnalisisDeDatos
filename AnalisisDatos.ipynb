{
 "cells": [
  {
   "cell_type": "code",
   "execution_count": 1,
   "id": "4f76f2cd-5371-49ba-af6a-a0dc1e8f8941",
   "metadata": {},
   "outputs": [],
   "source": [
    "import pandas as pd\n",
    "import matplotlib.pyplot as plt"
   ]
  },
  {
   "cell_type": "code",
   "execution_count": 2,
   "id": "9ea97182-cd7e-4628-96c4-022bd935c366",
   "metadata": {},
   "outputs": [],
   "source": [
    "equipos=pd.read_csv('equipo.csv')\n",
    "partidos= pd.read_csv('partidos.csv')"
   ]
  },
  {
   "cell_type": "code",
   "execution_count": 3,
   "id": "87243e20-dc82-4d28-b7f2-98348549ff77",
   "metadata": {},
   "outputs": [
    {
     "data": {
      "text/html": [
       "<div>\n",
       "<style scoped>\n",
       "    .dataframe tbody tr th:only-of-type {\n",
       "        vertical-align: middle;\n",
       "    }\n",
       "\n",
       "    .dataframe tbody tr th {\n",
       "        vertical-align: top;\n",
       "    }\n",
       "\n",
       "    .dataframe thead th {\n",
       "        text-align: right;\n",
       "    }\n",
       "</style>\n",
       "<table border=\"1\" class=\"dataframe\">\n",
       "  <thead>\n",
       "    <tr style=\"text-align: right;\">\n",
       "      <th></th>\n",
       "      <th>Ajax</th>\n",
       "      <th>ajax.png</th>\n",
       "      <th>Paises Bajos</th>\n",
       "      <th>14</th>\n",
       "    </tr>\n",
       "  </thead>\n",
       "  <tbody>\n",
       "    <tr>\n",
       "      <th>0</th>\n",
       "      <td>Atalanta</td>\n",
       "      <td>atalanta.png</td>\n",
       "      <td>Italia</td>\n",
       "      <td>6</td>\n",
       "    </tr>\n",
       "    <tr>\n",
       "      <th>1</th>\n",
       "      <td>Atlético</td>\n",
       "      <td>atletico.png</td>\n",
       "      <td>España</td>\n",
       "      <td>11</td>\n",
       "    </tr>\n",
       "    <tr>\n",
       "      <th>2</th>\n",
       "      <td>Barcelona</td>\n",
       "      <td>barcelona.png</td>\n",
       "      <td>España</td>\n",
       "      <td>17</td>\n",
       "    </tr>\n",
       "    <tr>\n",
       "      <th>3</th>\n",
       "      <td>Bayern</td>\n",
       "      <td>bayern.png</td>\n",
       "      <td>Alemania</td>\n",
       "      <td>16</td>\n",
       "    </tr>\n",
       "    <tr>\n",
       "      <th>4</th>\n",
       "      <td>Benfica</td>\n",
       "      <td>benfica.png</td>\n",
       "      <td>Portugal</td>\n",
       "      <td>15</td>\n",
       "    </tr>\n",
       "  </tbody>\n",
       "</table>\n",
       "</div>"
      ],
      "text/plain": [
       "        Ajax       ajax.png Paises Bajos  14\n",
       "0   Atalanta   atalanta.png       Italia   6\n",
       "1   Atlético   atletico.png       España  11\n",
       "2  Barcelona  barcelona.png       España  17\n",
       "3     Bayern     bayern.png     Alemania  16\n",
       "4    Benfica    benfica.png     Portugal  15"
      ]
     },
     "execution_count": 3,
     "metadata": {},
     "output_type": "execute_result"
    }
   ],
   "source": [
    "equipos.head()"
   ]
  },
  {
   "cell_type": "code",
   "execution_count": 4,
   "id": "a03556f1-0d6c-4433-954b-99c21684a564",
   "metadata": {},
   "outputs": [
    {
     "data": {
      "text/html": [
       "<div>\n",
       "<style scoped>\n",
       "    .dataframe tbody tr th:only-of-type {\n",
       "        vertical-align: middle;\n",
       "    }\n",
       "\n",
       "    .dataframe tbody tr th {\n",
       "        vertical-align: top;\n",
       "    }\n",
       "\n",
       "    .dataframe thead th {\n",
       "        text-align: right;\n",
       "    }\n",
       "</style>\n",
       "<table border=\"1\" class=\"dataframe\">\n",
       "  <thead>\n",
       "    <tr style=\"text-align: right;\">\n",
       "      <th></th>\n",
       "      <th>14/09/2021 16:45</th>\n",
       "      <th>29</th>\n",
       "      <th>2</th>\n",
       "      <th>33</th>\n",
       "      <th>34</th>\n",
       "      <th>33.1</th>\n",
       "    </tr>\n",
       "  </thead>\n",
       "  <tbody>\n",
       "    <tr>\n",
       "      <th>0</th>\n",
       "      <td>14/09/2021 16:45</td>\n",
       "      <td>31</td>\n",
       "      <td>19</td>\n",
       "      <td>33</td>\n",
       "      <td>34</td>\n",
       "      <td>33</td>\n",
       "    </tr>\n",
       "    <tr>\n",
       "      <th>1</th>\n",
       "      <td>14/09/2021 16:45</td>\n",
       "      <td>25</td>\n",
       "      <td>24</td>\n",
       "      <td>33</td>\n",
       "      <td>34</td>\n",
       "      <td>33</td>\n",
       "    </tr>\n",
       "    <tr>\n",
       "      <th>2</th>\n",
       "      <td>14/09/2021 19:00</td>\n",
       "      <td>11</td>\n",
       "      <td>6</td>\n",
       "      <td>33</td>\n",
       "      <td>34</td>\n",
       "      <td>33</td>\n",
       "    </tr>\n",
       "    <tr>\n",
       "      <th>3</th>\n",
       "      <td>14/09/2021 19:00</td>\n",
       "      <td>4</td>\n",
       "      <td>5</td>\n",
       "      <td>33</td>\n",
       "      <td>34</td>\n",
       "      <td>33</td>\n",
       "    </tr>\n",
       "    <tr>\n",
       "      <th>4</th>\n",
       "      <td>14/09/2021 19:00</td>\n",
       "      <td>16</td>\n",
       "      <td>30</td>\n",
       "      <td>33</td>\n",
       "      <td>34</td>\n",
       "      <td>33</td>\n",
       "    </tr>\n",
       "  </tbody>\n",
       "</table>\n",
       "</div>"
      ],
      "text/plain": [
       "   14/09/2021 16:45  29   2  33  34  33.1\n",
       "0  14/09/2021 16:45  31  19  33  34    33\n",
       "1  14/09/2021 16:45  25  24  33  34    33\n",
       "2  14/09/2021 19:00  11   6  33  34    33\n",
       "3  14/09/2021 19:00   4   5  33  34    33\n",
       "4  14/09/2021 19:00  16  30  33  34    33"
      ]
     },
     "execution_count": 4,
     "metadata": {},
     "output_type": "execute_result"
    }
   ],
   "source": [
    "partidos.head()"
   ]
  },
  {
   "cell_type": "code",
   "execution_count": 5,
   "id": "87881a54-b044-4a10-a48d-139d7d94243d",
   "metadata": {},
   "outputs": [
    {
     "data": {
      "text/plain": [
       "Index(['Ajax', 'ajax.png', 'Paises Bajos', '14'], dtype='object')"
      ]
     },
     "execution_count": 5,
     "metadata": {},
     "output_type": "execute_result"
    }
   ],
   "source": [
    "equipos.columns"
   ]
  },
  {
   "cell_type": "code",
   "execution_count": 6,
   "id": "d8dafbbd-5304-42f5-b66e-d034c8fbcbb6",
   "metadata": {},
   "outputs": [
    {
     "data": {
      "text/plain": [
       "Index(['Equipo', 'Imagen', 'Pais', 'Indice'], dtype='object')"
      ]
     },
     "execution_count": 6,
     "metadata": {},
     "output_type": "execute_result"
    }
   ],
   "source": [
    "equipos.columns=['Equipo', 'Imagen', 'Pais', 'Indice']\n",
    "equipos.columns"
   ]
  },
  {
   "cell_type": "code",
   "execution_count": 7,
   "id": "23379f96-84c8-42e3-afff-fa8bb8502642",
   "metadata": {},
   "outputs": [
    {
     "data": {
      "text/html": [
       "<div>\n",
       "<style scoped>\n",
       "    .dataframe tbody tr th:only-of-type {\n",
       "        vertical-align: middle;\n",
       "    }\n",
       "\n",
       "    .dataframe tbody tr th {\n",
       "        vertical-align: top;\n",
       "    }\n",
       "\n",
       "    .dataframe thead th {\n",
       "        text-align: right;\n",
       "    }\n",
       "</style>\n",
       "<table border=\"1\" class=\"dataframe\">\n",
       "  <thead>\n",
       "    <tr style=\"text-align: right;\">\n",
       "      <th></th>\n",
       "      <th>Equipo</th>\n",
       "      <th>Imagen</th>\n",
       "      <th>Pais</th>\n",
       "      <th>Indice</th>\n",
       "    </tr>\n",
       "  </thead>\n",
       "  <tbody>\n",
       "    <tr>\n",
       "      <th>0</th>\n",
       "      <td>Atalanta</td>\n",
       "      <td>atalanta.png</td>\n",
       "      <td>Italia</td>\n",
       "      <td>6</td>\n",
       "    </tr>\n",
       "    <tr>\n",
       "      <th>1</th>\n",
       "      <td>Atlético</td>\n",
       "      <td>atletico.png</td>\n",
       "      <td>España</td>\n",
       "      <td>11</td>\n",
       "    </tr>\n",
       "    <tr>\n",
       "      <th>2</th>\n",
       "      <td>Barcelona</td>\n",
       "      <td>barcelona.png</td>\n",
       "      <td>España</td>\n",
       "      <td>17</td>\n",
       "    </tr>\n",
       "    <tr>\n",
       "      <th>3</th>\n",
       "      <td>Bayern</td>\n",
       "      <td>bayern.png</td>\n",
       "      <td>Alemania</td>\n",
       "      <td>16</td>\n",
       "    </tr>\n",
       "    <tr>\n",
       "      <th>4</th>\n",
       "      <td>Benfica</td>\n",
       "      <td>benfica.png</td>\n",
       "      <td>Portugal</td>\n",
       "      <td>15</td>\n",
       "    </tr>\n",
       "  </tbody>\n",
       "</table>\n",
       "</div>"
      ],
      "text/plain": [
       "      Equipo         Imagen      Pais  Indice\n",
       "0   Atalanta   atalanta.png    Italia       6\n",
       "1   Atlético   atletico.png    España      11\n",
       "2  Barcelona  barcelona.png    España      17\n",
       "3     Bayern     bayern.png  Alemania      16\n",
       "4    Benfica    benfica.png  Portugal      15"
      ]
     },
     "execution_count": 7,
     "metadata": {},
     "output_type": "execute_result"
    }
   ],
   "source": [
    "equipos.head()"
   ]
  },
  {
   "cell_type": "code",
   "execution_count": 8,
   "id": "4cf643ab-b1b5-40cd-b372-71d7a0c8cb84",
   "metadata": {},
   "outputs": [
    {
     "data": {
      "text/plain": [
       "Index(['14/09/2021 16:45', '29', '2', '33', '34', '33.1'], dtype='object')"
      ]
     },
     "execution_count": 8,
     "metadata": {},
     "output_type": "execute_result"
    }
   ],
   "source": [
    "partidos.columns"
   ]
  },
  {
   "cell_type": "code",
   "execution_count": 9,
   "id": "b8f6e447-28a8-4646-99e7-d3ff51f30d2b",
   "metadata": {},
   "outputs": [
    {
     "data": {
      "text/plain": [
       "Index(['Fecha', 'Local', 'Visitante', 'Prob_local', 'Prob_empate',\n",
       "       'Prob_visitante'],\n",
       "      dtype='object')"
      ]
     },
     "execution_count": 9,
     "metadata": {},
     "output_type": "execute_result"
    }
   ],
   "source": [
    "partidos.columns=['Fecha', 'Local', 'Visitante', 'Prob_local', 'Prob_empate', 'Prob_visitante']\n",
    "partidos.columns"
   ]
  },
  {
   "cell_type": "code",
   "execution_count": 10,
   "id": "a4b4256e-9ed1-4e52-a2cc-88ce9b06a5c4",
   "metadata": {},
   "outputs": [
    {
     "data": {
      "text/html": [
       "<div>\n",
       "<style scoped>\n",
       "    .dataframe tbody tr th:only-of-type {\n",
       "        vertical-align: middle;\n",
       "    }\n",
       "\n",
       "    .dataframe tbody tr th {\n",
       "        vertical-align: top;\n",
       "    }\n",
       "\n",
       "    .dataframe thead th {\n",
       "        text-align: right;\n",
       "    }\n",
       "</style>\n",
       "<table border=\"1\" class=\"dataframe\">\n",
       "  <thead>\n",
       "    <tr style=\"text-align: right;\">\n",
       "      <th></th>\n",
       "      <th>Fecha</th>\n",
       "      <th>Local</th>\n",
       "      <th>Visitante</th>\n",
       "      <th>Prob_local</th>\n",
       "      <th>Prob_empate</th>\n",
       "      <th>Prob_visitante</th>\n",
       "    </tr>\n",
       "  </thead>\n",
       "  <tbody>\n",
       "    <tr>\n",
       "      <th>0</th>\n",
       "      <td>14/09/2021 16:45</td>\n",
       "      <td>31</td>\n",
       "      <td>19</td>\n",
       "      <td>33</td>\n",
       "      <td>34</td>\n",
       "      <td>33</td>\n",
       "    </tr>\n",
       "    <tr>\n",
       "      <th>1</th>\n",
       "      <td>14/09/2021 16:45</td>\n",
       "      <td>25</td>\n",
       "      <td>24</td>\n",
       "      <td>33</td>\n",
       "      <td>34</td>\n",
       "      <td>33</td>\n",
       "    </tr>\n",
       "    <tr>\n",
       "      <th>2</th>\n",
       "      <td>14/09/2021 19:00</td>\n",
       "      <td>11</td>\n",
       "      <td>6</td>\n",
       "      <td>33</td>\n",
       "      <td>34</td>\n",
       "      <td>33</td>\n",
       "    </tr>\n",
       "    <tr>\n",
       "      <th>3</th>\n",
       "      <td>14/09/2021 19:00</td>\n",
       "      <td>4</td>\n",
       "      <td>5</td>\n",
       "      <td>33</td>\n",
       "      <td>34</td>\n",
       "      <td>33</td>\n",
       "    </tr>\n",
       "    <tr>\n",
       "      <th>4</th>\n",
       "      <td>14/09/2021 19:00</td>\n",
       "      <td>16</td>\n",
       "      <td>30</td>\n",
       "      <td>33</td>\n",
       "      <td>34</td>\n",
       "      <td>33</td>\n",
       "    </tr>\n",
       "  </tbody>\n",
       "</table>\n",
       "</div>"
      ],
      "text/plain": [
       "              Fecha  Local  Visitante  Prob_local  Prob_empate  Prob_visitante\n",
       "0  14/09/2021 16:45     31         19          33           34              33\n",
       "1  14/09/2021 16:45     25         24          33           34              33\n",
       "2  14/09/2021 19:00     11          6          33           34              33\n",
       "3  14/09/2021 19:00      4          5          33           34              33\n",
       "4  14/09/2021 19:00     16         30          33           34              33"
      ]
     },
     "execution_count": 10,
     "metadata": {},
     "output_type": "execute_result"
    }
   ],
   "source": [
    "partidos.head()"
   ]
  },
  {
   "cell_type": "code",
   "execution_count": 11,
   "id": "212f1403-e2a0-4118-980b-a2b751071368",
   "metadata": {},
   "outputs": [
    {
     "name": "stdout",
     "output_type": "stream",
     "text": [
      "{'Real_Madrid': 14, 'Milan': 7, 'Liverpool': 6, 'Bayern_Munich': 6, 'Barcelona': 5}\n"
     ]
    },
    {
     "data": {
      "text/plain": [
       "dict"
      ]
     },
     "execution_count": 11,
     "metadata": {},
     "output_type": "execute_result"
    }
   ],
   "source": [
    "# Nos creamos una serie a partir de un diccionario\n",
    "champions_dict = {'Real_Madrid': 14, 'Milan': 7, 'Liverpool': 6, 'Bayern_Munich': 6, 'Barcelona': 5}\n",
    "print(champions_dict)\n",
    "type(champions_dict)"
   ]
  },
  {
   "cell_type": "code",
   "execution_count": 12,
   "id": "0e657e73-640a-49f0-af9c-495d3dd7117e",
   "metadata": {},
   "outputs": [
    {
     "name": "stdout",
     "output_type": "stream",
     "text": [
      "Real_Madrid      14\n",
      "Milan             7\n",
      "Liverpool         6\n",
      "Bayern_Munich     6\n",
      "Barcelona         5\n",
      "dtype: int64\n"
     ]
    },
    {
     "data": {
      "text/plain": [
       "pandas.core.series.Series"
      ]
     },
     "execution_count": 12,
     "metadata": {},
     "output_type": "execute_result"
    }
   ],
   "source": [
    "# Nos creamos nuestro pandas series a partir del diccionario\n",
    "champions_series = pd.Series(champions_dict)\n",
    "\n",
    "#Mostramos el resultado\n",
    "print(champions_series)\n",
    "type(champions_series)"
   ]
  },
  {
   "cell_type": "code",
   "execution_count": 13,
   "id": "85e40833-3bda-4c20-95b1-9dddab76723d",
   "metadata": {},
   "outputs": [
    {
     "data": {
      "text/plain": [
       "Index(['Real_Madrid', 'Milan', 'Liverpool', 'Bayern_Munich', 'Barcelona'], dtype='object')"
      ]
     },
     "execution_count": 13,
     "metadata": {},
     "output_type": "execute_result"
    }
   ],
   "source": [
    "# Las claves del diccionario original son los índices o las etiquetas de la serie\n",
    "champions_series.index"
   ]
  },
  {
   "cell_type": "code",
   "execution_count": 14,
   "id": "407ae155-1597-45d3-8203-31e532621a9d",
   "metadata": {},
   "outputs": [
    {
     "data": {
      "text/plain": [
       "Real_Madrid    14\n",
       "Milan           7\n",
       "dtype: int64"
      ]
     },
     "execution_count": 14,
     "metadata": {},
     "output_type": "execute_result"
    }
   ],
   "source": [
    "# Consultamos la estadística de los dos primeros equipos\n",
    "champions_series[0:2]"
   ]
  },
  {
   "cell_type": "code",
   "execution_count": 15,
   "id": "f0b533d9-2691-4081-860f-6b07c07a561b",
   "metadata": {},
   "outputs": [
    {
     "data": {
      "text/plain": [
       "5"
      ]
     },
     "execution_count": 15,
     "metadata": {},
     "output_type": "execute_result"
    }
   ],
   "source": [
    "# Consultamos por el índice/clave asociado\n",
    "champions_series['Barcelona']"
   ]
  },
  {
   "cell_type": "code",
   "execution_count": 16,
   "id": "b77a2a5d-c160-4677-8b6b-d716681192b3",
   "metadata": {},
   "outputs": [
    {
     "data": {
      "text/plain": [
       "16.096774193548388"
      ]
     },
     "execution_count": 16,
     "metadata": {},
     "output_type": "execute_result"
    }
   ],
   "source": [
    "equipos['Indice'].mean()"
   ]
  },
  {
   "cell_type": "code",
   "execution_count": 17,
   "id": "b0dc7e01-0a0b-4d8b-af7b-62503f913d9f",
   "metadata": {},
   "outputs": [
    {
     "data": {
      "text/html": [
       "<div>\n",
       "<style scoped>\n",
       "    .dataframe tbody tr th:only-of-type {\n",
       "        vertical-align: middle;\n",
       "    }\n",
       "\n",
       "    .dataframe tbody tr th {\n",
       "        vertical-align: top;\n",
       "    }\n",
       "\n",
       "    .dataframe thead th {\n",
       "        text-align: right;\n",
       "    }\n",
       "</style>\n",
       "<table border=\"1\" class=\"dataframe\">\n",
       "  <thead>\n",
       "    <tr style=\"text-align: right;\">\n",
       "      <th></th>\n",
       "      <th>Indice</th>\n",
       "    </tr>\n",
       "  </thead>\n",
       "  <tbody>\n",
       "    <tr>\n",
       "      <th>count</th>\n",
       "      <td>31.000000</td>\n",
       "    </tr>\n",
       "    <tr>\n",
       "      <th>mean</th>\n",
       "      <td>16.096774</td>\n",
       "    </tr>\n",
       "    <tr>\n",
       "      <th>std</th>\n",
       "      <td>8.235512</td>\n",
       "    </tr>\n",
       "    <tr>\n",
       "      <th>min</th>\n",
       "      <td>1.000000</td>\n",
       "    </tr>\n",
       "    <tr>\n",
       "      <th>25%</th>\n",
       "      <td>10.500000</td>\n",
       "    </tr>\n",
       "    <tr>\n",
       "      <th>50%</th>\n",
       "      <td>15.000000</td>\n",
       "    </tr>\n",
       "    <tr>\n",
       "      <th>75%</th>\n",
       "      <td>22.500000</td>\n",
       "    </tr>\n",
       "    <tr>\n",
       "      <th>max</th>\n",
       "      <td>30.000000</td>\n",
       "    </tr>\n",
       "  </tbody>\n",
       "</table>\n",
       "</div>"
      ],
      "text/plain": [
       "          Indice\n",
       "count  31.000000\n",
       "mean   16.096774\n",
       "std     8.235512\n",
       "min     1.000000\n",
       "25%    10.500000\n",
       "50%    15.000000\n",
       "75%    22.500000\n",
       "max    30.000000"
      ]
     },
     "execution_count": 17,
     "metadata": {},
     "output_type": "execute_result"
    }
   ],
   "source": [
    "equipos.describe()"
   ]
  },
  {
   "cell_type": "code",
   "execution_count": 18,
   "id": "4f176828-4ca1-4562-9042-178ee7f689a7",
   "metadata": {},
   "outputs": [
    {
     "data": {
      "text/plain": [
       "<AxesSubplot:>"
      ]
     },
     "execution_count": 18,
     "metadata": {},
     "output_type": "execute_result"
    },
    {
     "data": {
      "image/png": "[encoded data removed]",
      "text/plain": [
       "<Figure size 640x480 with 1 Axes>"
      ]
     },
     "metadata": {},
     "output_type": "display_data"
    }
   ],
   "source": [
    "equipos['Indice'].plot()"
   ]
  },
  {
   "cell_type": "code",
   "execution_count": 19,
   "id": "0329e634-f146-43ac-b23a-84a47c2c36df",
   "metadata": {},
   "outputs": [
    {
     "data": {
      "text/plain": [
       "<AxesSubplot:>"
      ]
     },
     "execution_count": 19,
     "metadata": {},
     "output_type": "execute_result"
    },
    {
     "data": {
      "image/png": "[encoded data removed]",
      "text/plain": [
       "<Figure size 640x480 with 1 Axes>"
      ]
     },
     "metadata": {},
     "output_type": "display_data"
    }
   ],
   "source": [
    "equipos['Indice'].hist()"
   ]
  },
  {
   "cell_type": "code",
   "execution_count": 20,
   "id": "889807db-81e6-4c7d-83be-47d72058819c",
   "metadata": {},
   "outputs": [
    {
     "data": {
      "text/plain": [
       "13    2\n",
       "14    2\n",
       "22    2\n",
       "11    2\n",
       "6     1\n",
       "23    1\n",
       "4     1\n",
       "30    1\n",
       "25    1\n",
       "10    1\n",
       "12    1\n",
       "19    1\n",
       "20    1\n",
       "21    1\n",
       "24    1\n",
       "8     1\n",
       "9     1\n",
       "29    1\n",
       "28    1\n",
       "27    1\n",
       "26    1\n",
       "1     1\n",
       "2     1\n",
       "15    1\n",
       "16    1\n",
       "17    1\n",
       "7     1\n",
       "Name: Indice, dtype: int64"
      ]
     },
     "execution_count": 20,
     "metadata": {},
     "output_type": "execute_result"
    }
   ],
   "source": [
    "equipos['Indice'].value_counts()"
   ]
  },
  {
   "cell_type": "code",
   "execution_count": 21,
   "id": "8d7c2a9d-ec13-4180-971f-3f844beafcdf",
   "metadata": {},
   "outputs": [
    {
     "data": {
      "text/plain": [
       "array([ 6, 11, 17, 16, 15,  2,  1, 26, 27, 28, 29,  9,  8, 24, 23, 22, 21,\n",
       "       20, 19, 14, 13, 12, 10, 25, 30,  4,  7])"
      ]
     },
     "execution_count": 21,
     "metadata": {},
     "output_type": "execute_result"
    }
   ],
   "source": [
    "equipos['Indice'].unique()"
   ]
  },
  {
   "cell_type": "code",
   "execution_count": 22,
   "id": "44853bf2-7f07-45d9-b148-bdcfbcc57f84",
   "metadata": {},
   "outputs": [
    {
     "data": {
      "text/plain": [
       "16.36842105263158"
      ]
     },
     "execution_count": 22,
     "metadata": {},
     "output_type": "execute_result"
    }
   ],
   "source": [
    "partidos['Local'].mean()"
   ]
  },
  {
   "cell_type": "code",
   "execution_count": 23,
   "id": "cceec451-ea67-4174-95ae-9fbfc274d8e4",
   "metadata": {},
   "outputs": [
    {
     "data": {
      "text/plain": [
       "16.652631578947368"
      ]
     },
     "execution_count": 23,
     "metadata": {},
     "output_type": "execute_result"
    }
   ],
   "source": [
    "partidos['Visitante'].mean()"
   ]
  },
  {
   "cell_type": "code",
   "execution_count": 24,
   "id": "6da875de-2996-4ee5-9838-a82e8825e447",
   "metadata": {},
   "outputs": [
    {
     "data": {
      "text/html": [
       "<div>\n",
       "<style scoped>\n",
       "    .dataframe tbody tr th:only-of-type {\n",
       "        vertical-align: middle;\n",
       "    }\n",
       "\n",
       "    .dataframe tbody tr th {\n",
       "        vertical-align: top;\n",
       "    }\n",
       "\n",
       "    .dataframe thead th {\n",
       "        text-align: right;\n",
       "    }\n",
       "</style>\n",
       "<table border=\"1\" class=\"dataframe\">\n",
       "  <thead>\n",
       "    <tr style=\"text-align: right;\">\n",
       "      <th></th>\n",
       "      <th>Local</th>\n",
       "      <th>Visitante</th>\n",
       "      <th>Prob_local</th>\n",
       "      <th>Prob_empate</th>\n",
       "      <th>Prob_visitante</th>\n",
       "    </tr>\n",
       "  </thead>\n",
       "  <tbody>\n",
       "    <tr>\n",
       "      <th>count</th>\n",
       "      <td>95.000000</td>\n",
       "      <td>95.000000</td>\n",
       "      <td>95.0</td>\n",
       "      <td>95.0</td>\n",
       "      <td>95.0</td>\n",
       "    </tr>\n",
       "    <tr>\n",
       "      <th>mean</th>\n",
       "      <td>16.368421</td>\n",
       "      <td>16.652632</td>\n",
       "      <td>33.0</td>\n",
       "      <td>34.0</td>\n",
       "      <td>33.0</td>\n",
       "    </tr>\n",
       "    <tr>\n",
       "      <th>std</th>\n",
       "      <td>9.240352</td>\n",
       "      <td>9.208886</td>\n",
       "      <td>0.0</td>\n",
       "      <td>0.0</td>\n",
       "      <td>0.0</td>\n",
       "    </tr>\n",
       "    <tr>\n",
       "      <th>min</th>\n",
       "      <td>1.000000</td>\n",
       "      <td>1.000000</td>\n",
       "      <td>33.0</td>\n",
       "      <td>34.0</td>\n",
       "      <td>33.0</td>\n",
       "    </tr>\n",
       "    <tr>\n",
       "      <th>25%</th>\n",
       "      <td>8.500000</td>\n",
       "      <td>9.000000</td>\n",
       "      <td>33.0</td>\n",
       "      <td>34.0</td>\n",
       "      <td>33.0</td>\n",
       "    </tr>\n",
       "    <tr>\n",
       "      <th>50%</th>\n",
       "      <td>16.000000</td>\n",
       "      <td>17.000000</td>\n",
       "      <td>33.0</td>\n",
       "      <td>34.0</td>\n",
       "      <td>33.0</td>\n",
       "    </tr>\n",
       "    <tr>\n",
       "      <th>75%</th>\n",
       "      <td>24.000000</td>\n",
       "      <td>24.500000</td>\n",
       "      <td>33.0</td>\n",
       "      <td>34.0</td>\n",
       "      <td>33.0</td>\n",
       "    </tr>\n",
       "    <tr>\n",
       "      <th>max</th>\n",
       "      <td>32.000000</td>\n",
       "      <td>32.000000</td>\n",
       "      <td>33.0</td>\n",
       "      <td>34.0</td>\n",
       "      <td>33.0</td>\n",
       "    </tr>\n",
       "  </tbody>\n",
       "</table>\n",
       "</div>"
      ],
      "text/plain": [
       "           Local  Visitante  Prob_local  Prob_empate  Prob_visitante\n",
       "count  95.000000  95.000000        95.0         95.0            95.0\n",
       "mean   16.368421  16.652632        33.0         34.0            33.0\n",
       "std     9.240352   9.208886         0.0          0.0             0.0\n",
       "min     1.000000   1.000000        33.0         34.0            33.0\n",
       "25%     8.500000   9.000000        33.0         34.0            33.0\n",
       "50%    16.000000  17.000000        33.0         34.0            33.0\n",
       "75%    24.000000  24.500000        33.0         34.0            33.0\n",
       "max    32.000000  32.000000        33.0         34.0            33.0"
      ]
     },
     "execution_count": 24,
     "metadata": {},
     "output_type": "execute_result"
    }
   ],
   "source": [
    "partidos.describe()"
   ]
  },
  {
   "cell_type": "code",
   "execution_count": 25,
   "id": "6051ae1d-a4f2-4f94-b426-cf5739281d91",
   "metadata": {},
   "outputs": [
    {
     "data": {
      "text/plain": [
       "<AxesSubplot:>"
      ]
     },
     "execution_count": 25,
     "metadata": {},
     "output_type": "execute_result"
    },
    {
     "data": {
      "image/png": "[encoded data removed]",
      "text/plain": [
       "<Figure size 640x480 with 1 Axes>"
      ]
     },
     "metadata": {},
     "output_type": "display_data"
    }
   ],
   "source": [
    "partidos['Local'].plot()"
   ]
  },
  {
   "cell_type": "code",
   "execution_count": 26,
   "id": "86a5e5d2-94de-4e2b-a519-19b9c2346f53",
   "metadata": {},
   "outputs": [
    {
     "data": {
      "text/plain": [
       "<AxesSubplot:>"
      ]
     },
     "execution_count": 26,
     "metadata": {},
     "output_type": "execute_result"
    },
    {
     "data": {
      "image/png": "[encoded data removed]",
      "text/plain": [
       "<Figure size 640x480 with 1 Axes>"
      ]
     },
     "metadata": {},
     "output_type": "display_data"
    }
   ],
   "source": [
    "partidos['Local'].hist()"
   ]
  },
  {
   "cell_type": "code",
   "execution_count": 27,
   "id": "befef898-1b48-43f9-9aec-5db0f6f511c6",
   "metadata": {},
   "outputs": [
    {
     "data": {
      "text/plain": [
       "<AxesSubplot:>"
      ]
     },
     "execution_count": 27,
     "metadata": {},
     "output_type": "execute_result"
    },
    {
     "data": {
      "image/png": "[encoded data removed]",
      "text/plain": [
       "<Figure size 640x480 with 1 Axes>"
      ]
     },
     "metadata": {},
     "output_type": "display_data"
    }
   ],
   "source": [
    "partidos['Visitante'].plot()"
   ]
  },
  {
   "cell_type": "code",
   "execution_count": 28,
   "id": "3ca7fced-bdd0-4a85-8040-8e01f966a200",
   "metadata": {},
   "outputs": [
    {
     "data": {
      "text/plain": [
       "<AxesSubplot:>"
      ]
     },
     "execution_count": 28,
     "metadata": {},
     "output_type": "execute_result"
    },
    {
     "data": {
      "image/png": "[encoded data removed]",
      "text/plain": [
       "<Figure size 640x480 with 1 Axes>"
      ]
     },
     "metadata": {},
     "output_type": "display_data"
    }
   ],
   "source": [
    "partidos['Visitante'].hist()"
   ]
  },
  {
   "cell_type": "code",
   "execution_count": 29,
   "id": "86ace44d-ae44-4bbc-8afa-341e0b93c5c1",
   "metadata": {},
   "outputs": [
    {
     "data": {
      "text/plain": [
       "31    3\n",
       "25    3\n",
       "13    3\n",
       "24    3\n",
       "30    3\n",
       "19    3\n",
       "6     3\n",
       "5     3\n",
       "32    3\n",
       "2     3\n",
       "23    3\n",
       "10    3\n",
       "20    3\n",
       "22    3\n",
       "14    3\n",
       "21    3\n",
       "26    3\n",
       "1     3\n",
       "12    3\n",
       "28    3\n",
       "15    3\n",
       "3     3\n",
       "18    3\n",
       "9     3\n",
       "27    3\n",
       "7     3\n",
       "8     3\n",
       "17    3\n",
       "16    3\n",
       "4     3\n",
       "11    3\n",
       "29    2\n",
       "Name: Local, dtype: int64"
      ]
     },
     "execution_count": 29,
     "metadata": {},
     "output_type": "execute_result"
    }
   ],
   "source": [
    "partidos['Local'].value_counts()"
   ]
  },
  {
   "cell_type": "code",
   "execution_count": 30,
   "id": "5108111b-7ab4-4b9b-a274-9662aeaf9449",
   "metadata": {},
   "outputs": [
    {
     "data": {
      "text/plain": [
       "19    3\n",
       "24    3\n",
       "8     3\n",
       "16    3\n",
       "25    3\n",
       "29    3\n",
       "4     3\n",
       "11    3\n",
       "17    3\n",
       "31    3\n",
       "27    3\n",
       "28    3\n",
       "3     3\n",
       "15    3\n",
       "9     3\n",
       "18    3\n",
       "12    3\n",
       "7     3\n",
       "23    3\n",
       "1     3\n",
       "20    3\n",
       "22    3\n",
       "14    3\n",
       "21    3\n",
       "26    3\n",
       "10    3\n",
       "32    3\n",
       "13    3\n",
       "30    3\n",
       "5     3\n",
       "6     3\n",
       "2     2\n",
       "Name: Visitante, dtype: int64"
      ]
     },
     "execution_count": 30,
     "metadata": {},
     "output_type": "execute_result"
    }
   ],
   "source": [
    "partidos['Visitante'].value_counts()"
   ]
  },
  {
   "cell_type": "code",
   "execution_count": 31,
   "id": "c2563da9-17a7-4c6b-a660-439ddddc690a",
   "metadata": {},
   "outputs": [
    {
     "data": {
      "text/plain": [
       "array([31, 25, 11,  4, 16, 17,  8,  7, 27,  9, 18,  3, 15, 28, 12,  1, 26,\n",
       "       21, 14, 22, 20, 10, 23,  2, 32,  5,  6, 19, 30, 24, 13, 29])"
      ]
     },
     "execution_count": 31,
     "metadata": {},
     "output_type": "execute_result"
    }
   ],
   "source": [
    "partidos['Local'].unique()"
   ]
  },
  {
   "cell_type": "code",
   "execution_count": 32,
   "id": "cbc4374c-2416-4498-ac11-b4770625849a",
   "metadata": {},
   "outputs": [
    {
     "data": {
      "text/plain": [
       "array([19, 24,  6,  5, 30, 13, 32, 10, 26, 21, 14, 22, 20,  1, 23,  7, 12,\n",
       "       18,  9, 15,  3, 28, 27, 31, 17, 11,  4, 29, 25, 16,  8,  2])"
      ]
     },
     "execution_count": 32,
     "metadata": {},
     "output_type": "execute_result"
    }
   ],
   "source": [
    "partidos['Visitante'].unique()"
   ]
  },
  {
   "cell_type": "code",
   "execution_count": 33,
   "id": "b90c16de-23cf-4e7d-a109-9db108699d10",
   "metadata": {},
   "outputs": [
    {
     "data": {
      "text/plain": [
       "Equipo        Atlético\n",
       "Imagen    atletico.png\n",
       "Pais            España\n",
       "Indice              11\n",
       "Name: 1, dtype: object"
      ]
     },
     "execution_count": 33,
     "metadata": {},
     "output_type": "execute_result"
    }
   ],
   "source": [
    "equipos.loc[1]"
   ]
  },
  {
   "cell_type": "code",
   "execution_count": 34,
   "id": "b3ce9828-f3c7-492a-b517-cfc81082c527",
   "metadata": {},
   "outputs": [
    {
     "data": {
      "text/html": [
       "<div>\n",
       "<style scoped>\n",
       "    .dataframe tbody tr th:only-of-type {\n",
       "        vertical-align: middle;\n",
       "    }\n",
       "\n",
       "    .dataframe tbody tr th {\n",
       "        vertical-align: top;\n",
       "    }\n",
       "\n",
       "    .dataframe thead th {\n",
       "        text-align: right;\n",
       "    }\n",
       "</style>\n",
       "<table border=\"1\" class=\"dataframe\">\n",
       "  <thead>\n",
       "    <tr style=\"text-align: right;\">\n",
       "      <th></th>\n",
       "      <th>Equipo</th>\n",
       "      <th>Imagen</th>\n",
       "      <th>Pais</th>\n",
       "      <th>Indice</th>\n",
       "    </tr>\n",
       "  </thead>\n",
       "  <tbody>\n",
       "    <tr>\n",
       "      <th>1</th>\n",
       "      <td>Atlético</td>\n",
       "      <td>atletico.png</td>\n",
       "      <td>España</td>\n",
       "      <td>11</td>\n",
       "    </tr>\n",
       "    <tr>\n",
       "      <th>3</th>\n",
       "      <td>Bayern</td>\n",
       "      <td>bayern.png</td>\n",
       "      <td>Alemania</td>\n",
       "      <td>16</td>\n",
       "    </tr>\n",
       "  </tbody>\n",
       "</table>\n",
       "</div>"
      ],
      "text/plain": [
       "     Equipo        Imagen      Pais  Indice\n",
       "1  Atlético  atletico.png    España      11\n",
       "3    Bayern    bayern.png  Alemania      16"
      ]
     },
     "execution_count": 34,
     "metadata": {},
     "output_type": "execute_result"
    }
   ],
   "source": [
    "filas= [1, 3]\n",
    "equipos.loc[filas]"
   ]
  },
  {
   "cell_type": "code",
   "execution_count": 35,
   "id": "fd3a717b-d7e8-4cd8-86fc-4eaa56540862",
   "metadata": {},
   "outputs": [
    {
     "data": {
      "text/plain": [
       "11"
      ]
     },
     "execution_count": 35,
     "metadata": {},
     "output_type": "execute_result"
    }
   ],
   "source": [
    "equipos.loc[1, 'Indice']"
   ]
  },
  {
   "cell_type": "code",
   "execution_count": 36,
   "id": "19681376-3d40-403b-bfd3-f44e2c7587fd",
   "metadata": {},
   "outputs": [
    {
     "data": {
      "text/html": [
       "<div>\n",
       "<style scoped>\n",
       "    .dataframe tbody tr th:only-of-type {\n",
       "        vertical-align: middle;\n",
       "    }\n",
       "\n",
       "    .dataframe tbody tr th {\n",
       "        vertical-align: top;\n",
       "    }\n",
       "\n",
       "    .dataframe thead th {\n",
       "        text-align: right;\n",
       "    }\n",
       "</style>\n",
       "<table border=\"1\" class=\"dataframe\">\n",
       "  <thead>\n",
       "    <tr style=\"text-align: right;\">\n",
       "      <th></th>\n",
       "      <th>Pais</th>\n",
       "      <th>Indice</th>\n",
       "    </tr>\n",
       "  </thead>\n",
       "  <tbody>\n",
       "    <tr>\n",
       "      <th>1</th>\n",
       "      <td>España</td>\n",
       "      <td>11</td>\n",
       "    </tr>\n",
       "    <tr>\n",
       "      <th>3</th>\n",
       "      <td>Alemania</td>\n",
       "      <td>16</td>\n",
       "    </tr>\n",
       "  </tbody>\n",
       "</table>\n",
       "</div>"
      ],
      "text/plain": [
       "       Pais  Indice\n",
       "1    España      11\n",
       "3  Alemania      16"
      ]
     },
     "execution_count": 36,
     "metadata": {},
     "output_type": "execute_result"
    }
   ],
   "source": [
    "equipos.loc[[1, 3], ['Pais', 'Indice']]"
   ]
  },
  {
   "cell_type": "code",
   "execution_count": 37,
   "id": "8a27d079-1edb-4b9b-bd97-3855135810db",
   "metadata": {},
   "outputs": [
    {
     "data": {
      "text/plain": [
       "'Atalanta'"
      ]
     },
     "execution_count": 37,
     "metadata": {},
     "output_type": "execute_result"
    }
   ],
   "source": [
    "equipos.iloc[0, 0]"
   ]
  },
  {
   "cell_type": "code",
   "execution_count": 38,
   "id": "eaa8b74e-c366-4dc4-b7bd-8993663eec07",
   "metadata": {},
   "outputs": [
    {
     "data": {
      "text/plain": [
       "Fecha             14/09/2021 16:45\n",
       "Local                           25\n",
       "Visitante                       24\n",
       "Prob_local                      33\n",
       "Prob_empate                     34\n",
       "Prob_visitante                  33\n",
       "Name: 1, dtype: object"
      ]
     },
     "execution_count": 38,
     "metadata": {},
     "output_type": "execute_result"
    }
   ],
   "source": [
    "partidos.loc[1]"
   ]
  },
  {
   "cell_type": "code",
   "execution_count": 39,
   "id": "86e4fa97-953a-465e-8d71-ed38d4c6ee5b",
   "metadata": {},
   "outputs": [
    {
     "data": {
      "text/html": [
       "<div>\n",
       "<style scoped>\n",
       "    .dataframe tbody tr th:only-of-type {\n",
       "        vertical-align: middle;\n",
       "    }\n",
       "\n",
       "    .dataframe tbody tr th {\n",
       "        vertical-align: top;\n",
       "    }\n",
       "\n",
       "    .dataframe thead th {\n",
       "        text-align: right;\n",
       "    }\n",
       "</style>\n",
       "<table border=\"1\" class=\"dataframe\">\n",
       "  <thead>\n",
       "    <tr style=\"text-align: right;\">\n",
       "      <th></th>\n",
       "      <th>Fecha</th>\n",
       "      <th>Local</th>\n",
       "      <th>Visitante</th>\n",
       "      <th>Prob_local</th>\n",
       "      <th>Prob_empate</th>\n",
       "      <th>Prob_visitante</th>\n",
       "    </tr>\n",
       "  </thead>\n",
       "  <tbody>\n",
       "    <tr>\n",
       "      <th>1</th>\n",
       "      <td>14/09/2021 16:45</td>\n",
       "      <td>25</td>\n",
       "      <td>24</td>\n",
       "      <td>33</td>\n",
       "      <td>34</td>\n",
       "      <td>33</td>\n",
       "    </tr>\n",
       "    <tr>\n",
       "      <th>3</th>\n",
       "      <td>14/09/2021 19:00</td>\n",
       "      <td>4</td>\n",
       "      <td>5</td>\n",
       "      <td>33</td>\n",
       "      <td>34</td>\n",
       "      <td>33</td>\n",
       "    </tr>\n",
       "  </tbody>\n",
       "</table>\n",
       "</div>"
      ],
      "text/plain": [
       "              Fecha  Local  Visitante  Prob_local  Prob_empate  Prob_visitante\n",
       "1  14/09/2021 16:45     25         24          33           34              33\n",
       "3  14/09/2021 19:00      4          5          33           34              33"
      ]
     },
     "execution_count": 39,
     "metadata": {},
     "output_type": "execute_result"
    }
   ],
   "source": [
    "filas= [1, 3]\n",
    "partidos.loc[filas]"
   ]
  },
  {
   "cell_type": "code",
   "execution_count": 40,
   "id": "adcde3bf-5afa-4d43-b0a7-c3a896342d20",
   "metadata": {},
   "outputs": [
    {
     "data": {
      "text/plain": [
       "25"
      ]
     },
     "execution_count": 40,
     "metadata": {},
     "output_type": "execute_result"
    }
   ],
   "source": [
    "partidos.loc[1, 'Local']"
   ]
  },
  {
   "cell_type": "code",
   "execution_count": 41,
   "id": "aa7aebd0-c670-4265-9522-b0a460d52c18",
   "metadata": {},
   "outputs": [
    {
     "data": {
      "text/html": [
       "<div>\n",
       "<style scoped>\n",
       "    .dataframe tbody tr th:only-of-type {\n",
       "        vertical-align: middle;\n",
       "    }\n",
       "\n",
       "    .dataframe tbody tr th {\n",
       "        vertical-align: top;\n",
       "    }\n",
       "\n",
       "    .dataframe thead th {\n",
       "        text-align: right;\n",
       "    }\n",
       "</style>\n",
       "<table border=\"1\" class=\"dataframe\">\n",
       "  <thead>\n",
       "    <tr style=\"text-align: right;\">\n",
       "      <th></th>\n",
       "      <th>Fecha</th>\n",
       "      <th>Local</th>\n",
       "    </tr>\n",
       "  </thead>\n",
       "  <tbody>\n",
       "    <tr>\n",
       "      <th>1</th>\n",
       "      <td>14/09/2021 16:45</td>\n",
       "      <td>25</td>\n",
       "    </tr>\n",
       "    <tr>\n",
       "      <th>3</th>\n",
       "      <td>14/09/2021 19:00</td>\n",
       "      <td>4</td>\n",
       "    </tr>\n",
       "  </tbody>\n",
       "</table>\n",
       "</div>"
      ],
      "text/plain": [
       "              Fecha  Local\n",
       "1  14/09/2021 16:45     25\n",
       "3  14/09/2021 19:00      4"
      ]
     },
     "execution_count": 41,
     "metadata": {},
     "output_type": "execute_result"
    }
   ],
   "source": [
    "partidos.loc[[1, 3], ['Fecha', 'Local']]"
   ]
  },
  {
   "cell_type": "code",
   "execution_count": 42,
   "id": "b221e261-4f82-4a98-9fd4-1fa83fef07f6",
   "metadata": {},
   "outputs": [
    {
     "data": {
      "text/plain": [
       "'14/09/2021 16:45'"
      ]
     },
     "execution_count": 42,
     "metadata": {},
     "output_type": "execute_result"
    }
   ],
   "source": [
    "partidos.iloc[0, 0]"
   ]
  },
  {
   "cell_type": "code",
   "execution_count": 46,
   "id": "744eb664-2051-413e-8b43-0f43657ceb03",
   "metadata": {},
   "outputs": [
    {
     "data": {
      "text/plain": [
       "0      6\n",
       "1     11\n",
       "2     17\n",
       "3     16\n",
       "4     15\n",
       "5      2\n",
       "6      1\n",
       "7     26\n",
       "8     27\n",
       "9     28\n",
       "10    29\n",
       "11     9\n",
       "12     8\n",
       "13    24\n",
       "14    23\n",
       "15    22\n",
       "16    21\n",
       "17    20\n",
       "18    19\n",
       "19    14\n",
       "20    13\n",
       "21    12\n",
       "22    11\n",
       "23    10\n",
       "24    14\n",
       "25    22\n",
       "26    25\n",
       "27    30\n",
       "28     4\n",
       "29     7\n",
       "30    13\n",
       "Name: Indice, dtype: int64"
      ]
     },
     "execution_count": 46,
     "metadata": {},
     "output_type": "execute_result"
    }
   ],
   "source": [
    "#Seleccionar una sola columna o una sola fila devuelve una serie\n",
    "#Seleccionar la última columna\n",
    "equipos.iloc[:,-1]"
   ]
  },
  {
   "cell_type": "code",
   "execution_count": 47,
   "id": "9c045663-78bc-40ca-ba68-84e37563532f",
   "metadata": {},
   "outputs": [
    {
     "data": {
      "text/plain": [
       "0     33\n",
       "1     33\n",
       "2     33\n",
       "3     33\n",
       "4     33\n",
       "      ..\n",
       "90    33\n",
       "91    33\n",
       "92    33\n",
       "93    33\n",
       "94    33\n",
       "Name: Prob_visitante, Length: 95, dtype: int64"
      ]
     },
     "execution_count": 47,
     "metadata": {},
     "output_type": "execute_result"
    }
   ],
   "source": [
    "partidos.iloc[:,-1]"
   ]
  },
  {
   "cell_type": "code",
   "execution_count": 48,
   "id": "65f90584-f6d7-42a3-8173-55737145cbb5",
   "metadata": {},
   "outputs": [
    {
     "data": {
      "text/plain": [
       "Equipo        Zenit\n",
       "Imagen    zenit.png\n",
       "Pais          Rusia\n",
       "Indice           13\n",
       "Name: 30, dtype: object"
      ]
     },
     "execution_count": 48,
     "metadata": {},
     "output_type": "execute_result"
    }
   ],
   "source": [
    "# Seleccionar la última fila \n",
    "equipos.iloc[-1,:]"
   ]
  },
  {
   "cell_type": "code",
   "execution_count": 49,
   "id": "35d297f4-3542-4dae-aea9-75b065543a23",
   "metadata": {},
   "outputs": [
    {
     "data": {
      "text/plain": [
       "Fecha             08/12/2021 20:00\n",
       "Local                           30\n",
       "Visitante                       16\n",
       "Prob_local                      33\n",
       "Prob_empate                     34\n",
       "Prob_visitante                  33\n",
       "Name: 94, dtype: object"
      ]
     },
     "execution_count": 49,
     "metadata": {},
     "output_type": "execute_result"
    }
   ],
   "source": [
    "# Seleccionar la última fila \n",
    "partidos.iloc[-1,:]"
   ]
  },
  {
   "cell_type": "code",
   "execution_count": 50,
   "id": "bf5f4a41-1ea0-48c3-a470-d8147aa1e620",
   "metadata": {},
   "outputs": [
    {
     "data": {
      "text/plain": [
       "Equipo        Zenit\n",
       "Imagen    zenit.png\n",
       "Pais          Rusia\n",
       "Indice           13\n",
       "Name: 30, dtype: object"
      ]
     },
     "execution_count": 50,
     "metadata": {},
     "output_type": "execute_result"
    }
   ],
   "source": [
    "# Al igual que el indexado de arrays bidimensionales en numpy, si indicamos solamente un índice se selecciona la fila entera\n",
    "equipos.iloc[-1]"
   ]
  },
  {
   "cell_type": "code",
   "execution_count": 51,
   "id": "9a1a287c-136b-41bf-869a-0760172a8fd3",
   "metadata": {},
   "outputs": [
    {
     "data": {
      "text/plain": [
       "Fecha             08/12/2021 20:00\n",
       "Local                           30\n",
       "Visitante                       16\n",
       "Prob_local                      33\n",
       "Prob_empate                     34\n",
       "Prob_visitante                  33\n",
       "Name: 94, dtype: object"
      ]
     },
     "execution_count": 51,
     "metadata": {},
     "output_type": "execute_result"
    }
   ],
   "source": [
    "# Al igual que el indexado de arrays bidimensionales en numpy, si indicamos solamente un índice se selecciona la fila entera\n",
    "partidos.iloc[-1]"
   ]
  },
  {
   "cell_type": "code",
   "execution_count": 52,
   "id": "c2a8c765-9cd5-4166-9239-15bbd85e892c",
   "metadata": {},
   "outputs": [
    {
     "data": {
      "text/html": [
       "<div>\n",
       "<style scoped>\n",
       "    .dataframe tbody tr th:only-of-type {\n",
       "        vertical-align: middle;\n",
       "    }\n",
       "\n",
       "    .dataframe tbody tr th {\n",
       "        vertical-align: top;\n",
       "    }\n",
       "\n",
       "    .dataframe thead th {\n",
       "        text-align: right;\n",
       "    }\n",
       "</style>\n",
       "<table border=\"1\" class=\"dataframe\">\n",
       "  <thead>\n",
       "    <tr style=\"text-align: right;\">\n",
       "      <th></th>\n",
       "      <th>Equipo</th>\n",
       "      <th>Imagen</th>\n",
       "      <th>Pais</th>\n",
       "      <th>Indice</th>\n",
       "    </tr>\n",
       "  </thead>\n",
       "  <tbody>\n",
       "    <tr>\n",
       "      <th>0</th>\n",
       "      <td>Atalanta</td>\n",
       "      <td>atalanta.png</td>\n",
       "      <td>Italia</td>\n",
       "      <td>6</td>\n",
       "    </tr>\n",
       "    <tr>\n",
       "      <th>1</th>\n",
       "      <td>Atlético</td>\n",
       "      <td>atletico.png</td>\n",
       "      <td>España</td>\n",
       "      <td>11</td>\n",
       "    </tr>\n",
       "    <tr>\n",
       "      <th>2</th>\n",
       "      <td>Barcelona</td>\n",
       "      <td>barcelona.png</td>\n",
       "      <td>España</td>\n",
       "      <td>17</td>\n",
       "    </tr>\n",
       "  </tbody>\n",
       "</table>\n",
       "</div>"
      ],
      "text/plain": [
       "      Equipo         Imagen    Pais  Indice\n",
       "0   Atalanta   atalanta.png  Italia       6\n",
       "1   Atlético   atletico.png  España      11\n",
       "2  Barcelona  barcelona.png  España      17"
      ]
     },
     "execution_count": 52,
     "metadata": {},
     "output_type": "execute_result"
    }
   ],
   "source": [
    "# Podemos seleccionar un rango de filas (también funciona como vimos simplemente con los corchetes: df[0:3])\n",
    "equipos.iloc[0:3]"
   ]
  },
  {
   "cell_type": "code",
   "execution_count": 53,
   "id": "6936be72-1a07-47e9-9fb8-2891afdf21ca",
   "metadata": {},
   "outputs": [
    {
     "data": {
      "text/html": [
       "<div>\n",
       "<style scoped>\n",
       "    .dataframe tbody tr th:only-of-type {\n",
       "        vertical-align: middle;\n",
       "    }\n",
       "\n",
       "    .dataframe tbody tr th {\n",
       "        vertical-align: top;\n",
       "    }\n",
       "\n",
       "    .dataframe thead th {\n",
       "        text-align: right;\n",
       "    }\n",
       "</style>\n",
       "<table border=\"1\" class=\"dataframe\">\n",
       "  <thead>\n",
       "    <tr style=\"text-align: right;\">\n",
       "      <th></th>\n",
       "      <th>Fecha</th>\n",
       "      <th>Local</th>\n",
       "      <th>Visitante</th>\n",
       "      <th>Prob_local</th>\n",
       "      <th>Prob_empate</th>\n",
       "      <th>Prob_visitante</th>\n",
       "    </tr>\n",
       "  </thead>\n",
       "  <tbody>\n",
       "    <tr>\n",
       "      <th>0</th>\n",
       "      <td>14/09/2021 16:45</td>\n",
       "      <td>31</td>\n",
       "      <td>19</td>\n",
       "      <td>33</td>\n",
       "      <td>34</td>\n",
       "      <td>33</td>\n",
       "    </tr>\n",
       "    <tr>\n",
       "      <th>1</th>\n",
       "      <td>14/09/2021 16:45</td>\n",
       "      <td>25</td>\n",
       "      <td>24</td>\n",
       "      <td>33</td>\n",
       "      <td>34</td>\n",
       "      <td>33</td>\n",
       "    </tr>\n",
       "    <tr>\n",
       "      <th>2</th>\n",
       "      <td>14/09/2021 19:00</td>\n",
       "      <td>11</td>\n",
       "      <td>6</td>\n",
       "      <td>33</td>\n",
       "      <td>34</td>\n",
       "      <td>33</td>\n",
       "    </tr>\n",
       "  </tbody>\n",
       "</table>\n",
       "</div>"
      ],
      "text/plain": [
       "              Fecha  Local  Visitante  Prob_local  Prob_empate  Prob_visitante\n",
       "0  14/09/2021 16:45     31         19          33           34              33\n",
       "1  14/09/2021 16:45     25         24          33           34              33\n",
       "2  14/09/2021 19:00     11          6          33           34              33"
      ]
     },
     "execution_count": 53,
     "metadata": {},
     "output_type": "execute_result"
    }
   ],
   "source": [
    "# Podemos seleccionar un rango de filas (también funciona como vimos simplemente con los corchetes: df[0:3])\n",
    "partidos.iloc[0:3]"
   ]
  },
  {
   "cell_type": "code",
   "execution_count": 54,
   "id": "416c0b7c-b31f-4d18-804d-e2cc0d6c3ebf",
   "metadata": {},
   "outputs": [
    {
     "data": {
      "text/html": [
       "<div>\n",
       "<style scoped>\n",
       "    .dataframe tbody tr th:only-of-type {\n",
       "        vertical-align: middle;\n",
       "    }\n",
       "\n",
       "    .dataframe tbody tr th {\n",
       "        vertical-align: top;\n",
       "    }\n",
       "\n",
       "    .dataframe thead th {\n",
       "        text-align: right;\n",
       "    }\n",
       "</style>\n",
       "<table border=\"1\" class=\"dataframe\">\n",
       "  <thead>\n",
       "    <tr style=\"text-align: right;\">\n",
       "      <th></th>\n",
       "      <th>Imagen</th>\n",
       "      <th>Pais</th>\n",
       "      <th>Indice</th>\n",
       "    </tr>\n",
       "  </thead>\n",
       "  <tbody>\n",
       "    <tr>\n",
       "      <th>1</th>\n",
       "      <td>atletico.png</td>\n",
       "      <td>España</td>\n",
       "      <td>11</td>\n",
       "    </tr>\n",
       "    <tr>\n",
       "      <th>2</th>\n",
       "      <td>barcelona.png</td>\n",
       "      <td>España</td>\n",
       "      <td>17</td>\n",
       "    </tr>\n",
       "  </tbody>\n",
       "</table>\n",
       "</div>"
      ],
      "text/plain": [
       "          Imagen    Pais  Indice\n",
       "1   atletico.png  España      11\n",
       "2  barcelona.png  España      17"
      ]
     },
     "execution_count": 54,
     "metadata": {},
     "output_type": "execute_result"
    }
   ],
   "source": [
    "# Seleccionar elementos de la segunda y la tercera fila y de la segunda y la tercera columna\n",
    "equipos.iloc[1:3,1:]"
   ]
  },
  {
   "cell_type": "code",
   "execution_count": 55,
   "id": "5422e2eb-8fb1-4503-965d-dbd918608312",
   "metadata": {},
   "outputs": [
    {
     "data": {
      "text/html": [
       "<div>\n",
       "<style scoped>\n",
       "    .dataframe tbody tr th:only-of-type {\n",
       "        vertical-align: middle;\n",
       "    }\n",
       "\n",
       "    .dataframe tbody tr th {\n",
       "        vertical-align: top;\n",
       "    }\n",
       "\n",
       "    .dataframe thead th {\n",
       "        text-align: right;\n",
       "    }\n",
       "</style>\n",
       "<table border=\"1\" class=\"dataframe\">\n",
       "  <thead>\n",
       "    <tr style=\"text-align: right;\">\n",
       "      <th></th>\n",
       "      <th>Local</th>\n",
       "      <th>Visitante</th>\n",
       "      <th>Prob_local</th>\n",
       "      <th>Prob_empate</th>\n",
       "      <th>Prob_visitante</th>\n",
       "    </tr>\n",
       "  </thead>\n",
       "  <tbody>\n",
       "    <tr>\n",
       "      <th>1</th>\n",
       "      <td>25</td>\n",
       "      <td>24</td>\n",
       "      <td>33</td>\n",
       "      <td>34</td>\n",
       "      <td>33</td>\n",
       "    </tr>\n",
       "    <tr>\n",
       "      <th>2</th>\n",
       "      <td>11</td>\n",
       "      <td>6</td>\n",
       "      <td>33</td>\n",
       "      <td>34</td>\n",
       "      <td>33</td>\n",
       "    </tr>\n",
       "  </tbody>\n",
       "</table>\n",
       "</div>"
      ],
      "text/plain": [
       "   Local  Visitante  Prob_local  Prob_empate  Prob_visitante\n",
       "1     25         24          33           34              33\n",
       "2     11          6          33           34              33"
      ]
     },
     "execution_count": 55,
     "metadata": {},
     "output_type": "execute_result"
    }
   ],
   "source": [
    "# Seleccionar elementos de la segunda y la tercera fila y de la segunda y la tercera columna\n",
    "partidos.iloc[1:3,1:]"
   ]
  },
  {
   "cell_type": "code",
   "execution_count": 56,
   "id": "6030d6b3-7bd3-4617-9ebb-03f88d10f458",
   "metadata": {},
   "outputs": [
    {
     "data": {
      "text/html": [
       "<div>\n",
       "<style scoped>\n",
       "    .dataframe tbody tr th:only-of-type {\n",
       "        vertical-align: middle;\n",
       "    }\n",
       "\n",
       "    .dataframe tbody tr th {\n",
       "        vertical-align: top;\n",
       "    }\n",
       "\n",
       "    .dataframe thead th {\n",
       "        text-align: right;\n",
       "    }\n",
       "</style>\n",
       "<table border=\"1\" class=\"dataframe\">\n",
       "  <thead>\n",
       "    <tr style=\"text-align: right;\">\n",
       "      <th></th>\n",
       "      <th>Equipo</th>\n",
       "      <th>Imagen</th>\n",
       "      <th>Pais</th>\n",
       "      <th>Indice</th>\n",
       "    </tr>\n",
       "  </thead>\n",
       "  <tbody>\n",
       "    <tr>\n",
       "      <th>0</th>\n",
       "      <td>False</td>\n",
       "      <td>False</td>\n",
       "      <td>False</td>\n",
       "      <td>False</td>\n",
       "    </tr>\n",
       "    <tr>\n",
       "      <th>1</th>\n",
       "      <td>False</td>\n",
       "      <td>False</td>\n",
       "      <td>False</td>\n",
       "      <td>False</td>\n",
       "    </tr>\n",
       "    <tr>\n",
       "      <th>2</th>\n",
       "      <td>False</td>\n",
       "      <td>False</td>\n",
       "      <td>False</td>\n",
       "      <td>False</td>\n",
       "    </tr>\n",
       "    <tr>\n",
       "      <th>3</th>\n",
       "      <td>False</td>\n",
       "      <td>False</td>\n",
       "      <td>False</td>\n",
       "      <td>False</td>\n",
       "    </tr>\n",
       "    <tr>\n",
       "      <th>4</th>\n",
       "      <td>False</td>\n",
       "      <td>False</td>\n",
       "      <td>False</td>\n",
       "      <td>False</td>\n",
       "    </tr>\n",
       "    <tr>\n",
       "      <th>5</th>\n",
       "      <td>False</td>\n",
       "      <td>False</td>\n",
       "      <td>False</td>\n",
       "      <td>False</td>\n",
       "    </tr>\n",
       "    <tr>\n",
       "      <th>6</th>\n",
       "      <td>False</td>\n",
       "      <td>False</td>\n",
       "      <td>False</td>\n",
       "      <td>False</td>\n",
       "    </tr>\n",
       "    <tr>\n",
       "      <th>7</th>\n",
       "      <td>False</td>\n",
       "      <td>False</td>\n",
       "      <td>False</td>\n",
       "      <td>False</td>\n",
       "    </tr>\n",
       "    <tr>\n",
       "      <th>8</th>\n",
       "      <td>False</td>\n",
       "      <td>False</td>\n",
       "      <td>False</td>\n",
       "      <td>False</td>\n",
       "    </tr>\n",
       "    <tr>\n",
       "      <th>9</th>\n",
       "      <td>False</td>\n",
       "      <td>False</td>\n",
       "      <td>False</td>\n",
       "      <td>False</td>\n",
       "    </tr>\n",
       "    <tr>\n",
       "      <th>10</th>\n",
       "      <td>False</td>\n",
       "      <td>False</td>\n",
       "      <td>False</td>\n",
       "      <td>False</td>\n",
       "    </tr>\n",
       "    <tr>\n",
       "      <th>11</th>\n",
       "      <td>False</td>\n",
       "      <td>False</td>\n",
       "      <td>False</td>\n",
       "      <td>False</td>\n",
       "    </tr>\n",
       "    <tr>\n",
       "      <th>12</th>\n",
       "      <td>False</td>\n",
       "      <td>False</td>\n",
       "      <td>False</td>\n",
       "      <td>False</td>\n",
       "    </tr>\n",
       "    <tr>\n",
       "      <th>13</th>\n",
       "      <td>False</td>\n",
       "      <td>False</td>\n",
       "      <td>False</td>\n",
       "      <td>False</td>\n",
       "    </tr>\n",
       "    <tr>\n",
       "      <th>14</th>\n",
       "      <td>False</td>\n",
       "      <td>False</td>\n",
       "      <td>False</td>\n",
       "      <td>False</td>\n",
       "    </tr>\n",
       "    <tr>\n",
       "      <th>15</th>\n",
       "      <td>False</td>\n",
       "      <td>False</td>\n",
       "      <td>False</td>\n",
       "      <td>False</td>\n",
       "    </tr>\n",
       "    <tr>\n",
       "      <th>16</th>\n",
       "      <td>False</td>\n",
       "      <td>False</td>\n",
       "      <td>False</td>\n",
       "      <td>False</td>\n",
       "    </tr>\n",
       "    <tr>\n",
       "      <th>17</th>\n",
       "      <td>False</td>\n",
       "      <td>False</td>\n",
       "      <td>False</td>\n",
       "      <td>False</td>\n",
       "    </tr>\n",
       "    <tr>\n",
       "      <th>18</th>\n",
       "      <td>False</td>\n",
       "      <td>False</td>\n",
       "      <td>False</td>\n",
       "      <td>False</td>\n",
       "    </tr>\n",
       "    <tr>\n",
       "      <th>19</th>\n",
       "      <td>False</td>\n",
       "      <td>False</td>\n",
       "      <td>False</td>\n",
       "      <td>False</td>\n",
       "    </tr>\n",
       "    <tr>\n",
       "      <th>20</th>\n",
       "      <td>False</td>\n",
       "      <td>False</td>\n",
       "      <td>False</td>\n",
       "      <td>False</td>\n",
       "    </tr>\n",
       "    <tr>\n",
       "      <th>21</th>\n",
       "      <td>False</td>\n",
       "      <td>False</td>\n",
       "      <td>False</td>\n",
       "      <td>False</td>\n",
       "    </tr>\n",
       "    <tr>\n",
       "      <th>22</th>\n",
       "      <td>False</td>\n",
       "      <td>False</td>\n",
       "      <td>False</td>\n",
       "      <td>False</td>\n",
       "    </tr>\n",
       "    <tr>\n",
       "      <th>23</th>\n",
       "      <td>False</td>\n",
       "      <td>False</td>\n",
       "      <td>False</td>\n",
       "      <td>False</td>\n",
       "    </tr>\n",
       "    <tr>\n",
       "      <th>24</th>\n",
       "      <td>False</td>\n",
       "      <td>False</td>\n",
       "      <td>False</td>\n",
       "      <td>False</td>\n",
       "    </tr>\n",
       "    <tr>\n",
       "      <th>25</th>\n",
       "      <td>False</td>\n",
       "      <td>False</td>\n",
       "      <td>False</td>\n",
       "      <td>False</td>\n",
       "    </tr>\n",
       "    <tr>\n",
       "      <th>26</th>\n",
       "      <td>False</td>\n",
       "      <td>False</td>\n",
       "      <td>False</td>\n",
       "      <td>False</td>\n",
       "    </tr>\n",
       "    <tr>\n",
       "      <th>27</th>\n",
       "      <td>False</td>\n",
       "      <td>False</td>\n",
       "      <td>False</td>\n",
       "      <td>False</td>\n",
       "    </tr>\n",
       "    <tr>\n",
       "      <th>28</th>\n",
       "      <td>False</td>\n",
       "      <td>False</td>\n",
       "      <td>False</td>\n",
       "      <td>False</td>\n",
       "    </tr>\n",
       "    <tr>\n",
       "      <th>29</th>\n",
       "      <td>False</td>\n",
       "      <td>False</td>\n",
       "      <td>False</td>\n",
       "      <td>False</td>\n",
       "    </tr>\n",
       "    <tr>\n",
       "      <th>30</th>\n",
       "      <td>False</td>\n",
       "      <td>False</td>\n",
       "      <td>False</td>\n",
       "      <td>False</td>\n",
       "    </tr>\n",
       "  </tbody>\n",
       "</table>\n",
       "</div>"
      ],
      "text/plain": [
       "    Equipo  Imagen   Pais  Indice\n",
       "0    False   False  False   False\n",
       "1    False   False  False   False\n",
       "2    False   False  False   False\n",
       "3    False   False  False   False\n",
       "4    False   False  False   False\n",
       "5    False   False  False   False\n",
       "6    False   False  False   False\n",
       "7    False   False  False   False\n",
       "8    False   False  False   False\n",
       "9    False   False  False   False\n",
       "10   False   False  False   False\n",
       "11   False   False  False   False\n",
       "12   False   False  False   False\n",
       "13   False   False  False   False\n",
       "14   False   False  False   False\n",
       "15   False   False  False   False\n",
       "16   False   False  False   False\n",
       "17   False   False  False   False\n",
       "18   False   False  False   False\n",
       "19   False   False  False   False\n",
       "20   False   False  False   False\n",
       "21   False   False  False   False\n",
       "22   False   False  False   False\n",
       "23   False   False  False   False\n",
       "24   False   False  False   False\n",
       "25   False   False  False   False\n",
       "26   False   False  False   False\n",
       "27   False   False  False   False\n",
       "28   False   False  False   False\n",
       "29   False   False  False   False\n",
       "30   False   False  False   False"
      ]
     },
     "execution_count": 56,
     "metadata": {},
     "output_type": "execute_result"
    }
   ],
   "source": [
    "equipos.isnull()"
   ]
  },
  {
   "cell_type": "code",
   "execution_count": 57,
   "id": "ec5a5ccf-7194-46fb-84c0-9798d1bff1a4",
   "metadata": {},
   "outputs": [
    {
     "data": {
      "text/html": [
       "<div>\n",
       "<style scoped>\n",
       "    .dataframe tbody tr th:only-of-type {\n",
       "        vertical-align: middle;\n",
       "    }\n",
       "\n",
       "    .dataframe tbody tr th {\n",
       "        vertical-align: top;\n",
       "    }\n",
       "\n",
       "    .dataframe thead th {\n",
       "        text-align: right;\n",
       "    }\n",
       "</style>\n",
       "<table border=\"1\" class=\"dataframe\">\n",
       "  <thead>\n",
       "    <tr style=\"text-align: right;\">\n",
       "      <th></th>\n",
       "      <th>Fecha</th>\n",
       "      <th>Local</th>\n",
       "      <th>Visitante</th>\n",
       "      <th>Prob_local</th>\n",
       "      <th>Prob_empate</th>\n",
       "      <th>Prob_visitante</th>\n",
       "    </tr>\n",
       "  </thead>\n",
       "  <tbody>\n",
       "    <tr>\n",
       "      <th>0</th>\n",
       "      <td>False</td>\n",
       "      <td>False</td>\n",
       "      <td>False</td>\n",
       "      <td>False</td>\n",
       "      <td>False</td>\n",
       "      <td>False</td>\n",
       "    </tr>\n",
       "    <tr>\n",
       "      <th>1</th>\n",
       "      <td>False</td>\n",
       "      <td>False</td>\n",
       "      <td>False</td>\n",
       "      <td>False</td>\n",
       "      <td>False</td>\n",
       "      <td>False</td>\n",
       "    </tr>\n",
       "    <tr>\n",
       "      <th>2</th>\n",
       "      <td>False</td>\n",
       "      <td>False</td>\n",
       "      <td>False</td>\n",
       "      <td>False</td>\n",
       "      <td>False</td>\n",
       "      <td>False</td>\n",
       "    </tr>\n",
       "    <tr>\n",
       "      <th>3</th>\n",
       "      <td>False</td>\n",
       "      <td>False</td>\n",
       "      <td>False</td>\n",
       "      <td>False</td>\n",
       "      <td>False</td>\n",
       "      <td>False</td>\n",
       "    </tr>\n",
       "    <tr>\n",
       "      <th>4</th>\n",
       "      <td>False</td>\n",
       "      <td>False</td>\n",
       "      <td>False</td>\n",
       "      <td>False</td>\n",
       "      <td>False</td>\n",
       "      <td>False</td>\n",
       "    </tr>\n",
       "    <tr>\n",
       "      <th>...</th>\n",
       "      <td>...</td>\n",
       "      <td>...</td>\n",
       "      <td>...</td>\n",
       "      <td>...</td>\n",
       "      <td>...</td>\n",
       "      <td>...</td>\n",
       "    </tr>\n",
       "    <tr>\n",
       "      <th>90</th>\n",
       "      <td>False</td>\n",
       "      <td>False</td>\n",
       "      <td>False</td>\n",
       "      <td>False</td>\n",
       "      <td>False</td>\n",
       "      <td>False</td>\n",
       "    </tr>\n",
       "    <tr>\n",
       "      <th>91</th>\n",
       "      <td>False</td>\n",
       "      <td>False</td>\n",
       "      <td>False</td>\n",
       "      <td>False</td>\n",
       "      <td>False</td>\n",
       "      <td>False</td>\n",
       "    </tr>\n",
       "    <tr>\n",
       "      <th>92</th>\n",
       "      <td>False</td>\n",
       "      <td>False</td>\n",
       "      <td>False</td>\n",
       "      <td>False</td>\n",
       "      <td>False</td>\n",
       "      <td>False</td>\n",
       "    </tr>\n",
       "    <tr>\n",
       "      <th>93</th>\n",
       "      <td>False</td>\n",
       "      <td>False</td>\n",
       "      <td>False</td>\n",
       "      <td>False</td>\n",
       "      <td>False</td>\n",
       "      <td>False</td>\n",
       "    </tr>\n",
       "    <tr>\n",
       "      <th>94</th>\n",
       "      <td>False</td>\n",
       "      <td>False</td>\n",
       "      <td>False</td>\n",
       "      <td>False</td>\n",
       "      <td>False</td>\n",
       "      <td>False</td>\n",
       "    </tr>\n",
       "  </tbody>\n",
       "</table>\n",
       "<p>95 rows × 6 columns</p>\n",
       "</div>"
      ],
      "text/plain": [
       "    Fecha  Local  Visitante  Prob_local  Prob_empate  Prob_visitante\n",
       "0   False  False      False       False        False           False\n",
       "1   False  False      False       False        False           False\n",
       "2   False  False      False       False        False           False\n",
       "3   False  False      False       False        False           False\n",
       "4   False  False      False       False        False           False\n",
       "..    ...    ...        ...         ...          ...             ...\n",
       "90  False  False      False       False        False           False\n",
       "91  False  False      False       False        False           False\n",
       "92  False  False      False       False        False           False\n",
       "93  False  False      False       False        False           False\n",
       "94  False  False      False       False        False           False\n",
       "\n",
       "[95 rows x 6 columns]"
      ]
     },
     "execution_count": 57,
     "metadata": {},
     "output_type": "execute_result"
    }
   ],
   "source": [
    "partidos.isnull()"
   ]
  },
  {
   "cell_type": "code",
   "execution_count": null,
   "id": "d9dca7d7-9090-4e98-8fe9-fd1bba8b07e2",
   "metadata": {},
   "outputs": [],
   "source": []
  }
 ],
 "metadata": {
  "kernelspec": {
   "display_name": "Python 3 (ipykernel)",
   "language": "python",
   "name": "python3"
  },
  "language_info": {
   "codemirror_mode": {
    "name": "ipython",
    "version": 3
   },
   "file_extension": ".py",
   "mimetype": "text/x-python",
   "name": "python",
   "nbconvert_exporter": "python",
   "pygments_lexer": "ipython3",
   "version": "3.9.13"
  }
 },
 "nbformat": 4,
 "nbformat_minor": 5
}
